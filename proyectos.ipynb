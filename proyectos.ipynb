{
  "nbformat": 4,
  "nbformat_minor": 0,
  "metadata": {
    "colab": {
      "name": "proyectos.ipynb",
      "provenance": [],
      "collapsed_sections": []
    },
    "kernelspec": {
      "name": "python3",
      "display_name": "Python 3"
    }
  },
  "cells": [
    {
      "cell_type": "markdown",
      "metadata": {
        "id": "FcBj8oqlBm1W"
      },
      "source": [
        "<a href=\"https://www.inove.com.ar\"><img src=\"https://raw.githubusercontent.com/InoveAlumnos/dataset_analytics_python/master/images/PA%20Banner.png\" width=\"1000\" align=\"center\"></a>\n",
        "\n",
        "\n",
        "# Proyectos\n",
        "\n",
        "Proyectos propuestos para Python Analytics<br>\n",
        "v1.1"
      ]
    },
    {
      "cell_type": "markdown",
      "metadata": {
        "id": "mfnI5-sJDqwl"
      },
      "source": [
        "### Formato de entrega\n",
        "Toda la etapa de entrenamiento del proyecto se debe realizar en un colab o nootebook que luego el alumno subierá a su repositorio de proyecto para que el profesor pueda evaluar los avances.<br>\n",
        "\n",
        "__APROBACIÓN:__ El proyecto será aprobado cuando el modelo entrenado alcance la exactitud/condición planteada en cada proyecto.<br>"
      ]
    },
    {
      "cell_type": "markdown",
      "metadata": {
        "id": "Q5h38Md6Br2c"
      },
      "source": [
        "<a href=\"https://github.com/InoveAlumnos/proyecto_analytics_python\"><img src=\"https://raw.githubusercontent.com/InoveAlumnos/proyecto_analytics_python/main/futbol.png\" width=\"400\" align=\"center\"></a>\n",
        "\n",
        "### Predicción sobre el dataset de partidos de futbol"
      ]
    },
    {
      "cell_type": "markdown",
      "metadata": {
        "id": "6XJW_GFDBzVK"
      },
      "source": [
        "- El objetivo es armar un clasificador que pueda predecir quien ganaría un partido de futbol informando al modelo quien es el equipo de local y visitante\n",
        "- Deberá entrenar un modelo clasificador y varias versiones del mismo. Por ejemplo, en el caso de seleccionar un RandomForest debe entrenar con distinto número de estimadores (distantas cantidad de árboles). Deberá compararlos utilizando la métrica adecuada y elegir el mejor modelo.\n",
        "- El punto anterior lo deberá repetir para tres distintos preprocesamientos:\n",
        "    - Realizar LabelEncoding sobre las columnas local y vistintante.\n",
        "    - Realizar OneHotEncoding sobre las columnas local y vistintante.\n",
        "    - Realizar BinaryEncoding sobre las columnas local y vistintante.\n",
        "- Recomendamos instalar la siguiente librería (*Category Encoders) que tiene implementado todos los encoding, incluido el de binary.\n",
        "- Ojo! se debe utilizar el mismo objeto encoding para local y vistante, por lo que debe por si las dudas armar un vector que tenga todos los paises sin repetir tanto de la columna local y visitante para entrenar (fit) su encoder, que luego aplicará (transform) a las dos columnas.\n",
        "\n",
        "Category Encoders: http://contrib.scikit-learn.org/category_encoders/"
      ]
    },
    {
      "cell_type": "markdown",
      "metadata": {
        "id": "6HDor1sbr8oQ"
      },
      "source": [
        "#### Objetivo"
      ]
    },
    {
      "cell_type": "markdown",
      "metadata": {
        "id": "00HbuLm9r_OL"
      },
      "source": [
        "El accuracy del modelo definitivo debe superar el 50% (0.5)"
      ]
    },
    {
      "cell_type": "markdown",
      "metadata": {
        "id": "4WPqs6i8Bw--"
      },
      "source": [
        "#### Como descargar el dataset"
      ]
    },
    {
      "cell_type": "code",
      "metadata": {
        "id": "M2g1zYl_Bhd9"
      },
      "source": [
        "# Ejecutar:\n",
        "if os.access('partidos.csv', os.F_OK) is False:\n",
        "    if platform.system() == 'Windows':\n",
        "        !curl https://raw.githubusercontent.com/InoveAlumnos/dataset_analytics_python/master/partidos.csv > partidos.csv\n",
        "    else:\n",
        "        !wget partidos.csv https://raw.githubusercontent.com/InoveAlumnos/dataset_analytics_python/master/partidos.csv"
      ],
      "execution_count": null,
      "outputs": []
    },
    {
      "cell_type": "markdown",
      "metadata": {
        "id": "A8QilSHFnsAy"
      },
      "source": [
        "<a href=\"https://github.com/InoveAlumnos/proyecto_analytics_python\"><img src=\"https://raw.githubusercontent.com/InoveAlumnos/proyecto_analytics_python/main/alquileres.png\" width=\"300\" align=\"center\"></a>\n",
        "\n",
        "### Predicción de los precios de departamentos en alquiler"
      ]
    },
    {
      "cell_type": "markdown",
      "metadata": {
        "id": "XQsWtdtdnvjJ"
      },
      "source": [
        "- El objetivo es armar un modelo que pueda predecir el valor de un departamento en alquiler según un dataset entregado de muchos dapartamentos en alquiler en Capital Federal.\n",
        "- Se elije un dataset de Capital Federal porque hay mucha variedad de alquileres en cuanto a ambientes, m2 y precios.\n",
        "- Antes de comenzar a entrear su modelo, deberá segmentar los datos, porque como ya se vió en clase sería un error \"meter a todos los alquileres en la misma bolsa\".\n",
        "- Deberá armar un modelo de clustering y separar el dataset en 3 a 5 grupos, debe usted seleccionar la cantidad y el tipo de clustering a utilizar que mejor separe en grupos al dataste para su posterior aplicación de varias regresiones.\n",
        "- Deberá entrenar un modelo de regresión por cada segmentación realizada. Recuerde que puede realizar:\n",
        "    - Realizar regresión lineal usando una sola columna vs el precio\n",
        "    - Realizar regresión multilineal usando más de una columna vs el precio"
      ]
    },
    {
      "cell_type": "markdown",
      "metadata": {
        "id": "FmEiz9plsh_b"
      },
      "source": [
        "#### Objetivo"
      ]
    },
    {
      "cell_type": "markdown",
      "metadata": {
        "id": "ndOTOOozsjh5"
      },
      "source": [
        "El R2_score promedio entre todas las regresiones debe superar el 50%"
      ]
    },
    {
      "cell_type": "markdown",
      "metadata": {
        "id": "up7NdRiLnzDc"
      },
      "source": [
        "#### Como descargar el dataset"
      ]
    },
    {
      "cell_type": "code",
      "metadata": {
        "id": "HkeFkDjJn2ja"
      },
      "source": [
        "# Ejecutar:\n",
        "if os.access('propiedades.csv', os.F_OK) is False:\n",
        "    if platform.system() == 'Windows':\n",
        "        !curl https://raw.githubusercontent.com/InoveAlumnos/dataset_analytics_python/master/propiedades.csv > propiedades.csv\n",
        "    else:\n",
        "        !wget propiedades.csv https://raw.githubusercontent.com/InoveAlumnos/dataset_analytics_python/master/propiedades.csv"
      ],
      "execution_count": null,
      "outputs": []
    },
    {
      "cell_type": "markdown",
      "metadata": {
        "id": "UFwBQ2uetL5M"
      },
      "source": [
        "<a href=\"https://github.com/InoveAlumnos/proyecto_analytics_python\"><img src=\"https://raw.githubusercontent.com/InoveAlumnos/proyecto_analytics_python/main/cat_dog.jpg\" width=\"600\" align=\"center\"></a>\n",
        "\n",
        "### Clasificación de imagenes de perros y gatos"
      ]
    },
    {
      "cell_type": "markdown",
      "metadata": {
        "id": "vVuFtzket36w"
      },
      "source": [
        "- El objetivo es entrenar una red neuronal CNN para clasificar imagenes a color de gatos y perros.\n",
        "- Se debe crear un modelo de CNN propio, no demasiado complejo o grande para no demorar más de 15 minutos el entrenamiento (tope máximo sugerido). Recomendamos utilizar colab con GPU para reducir los tiempos al mínimo.\n",
        "- El modelo CNN armado propio debe tener una precisión entre 0.25 y 0.4 de accuracy.\n",
        "- Deberá utilizan transfer learning con las redes VGG16 o ResNet50 para alcanzar el verdadero valor objetivo de accuracy.\n",
        "- Por último, utilizar la red con al menos 2 imagenes (de perros y gatos) para introducir en su red y ver como se comporta."
      ]
    },
    {
      "cell_type": "markdown",
      "metadata": {
        "id": "tY8I31zcuf8x"
      },
      "source": [
        "#### Objetivo"
      ]
    },
    {
      "cell_type": "markdown",
      "metadata": {
        "id": "_92Av_squgXr"
      },
      "source": [
        "El accuracy del modelo entrenado con transfer learning debe superar el 70%"
      ]
    },
    {
      "cell_type": "markdown",
      "metadata": {
        "id": "SoCA5ysousR0"
      },
      "source": [
        "#### Como descargar el dataset"
      ]
    },
    {
      "cell_type": "code",
      "metadata": {
        "id": "-_oumrEpus1_"
      },
      "source": [
        "# Ejecutar\n",
        "!wget --no-check-certificate \\\n",
        "  https://storage.googleapis.com/mledu-datasets/cats_and_dogs_filtered.zip \\\n",
        "  -O cats_and_dogs_filtered.zip\n",
        "\n",
        "!unzip -q cats_and_dogs_filtered.zip\n"
      ],
      "execution_count": null,
      "outputs": []
    },
    {
      "cell_type": "code",
      "metadata": {
        "id": "LCixAO1ZvWqV"
      },
      "source": [
        "train_dir = \"cats_and_dogs_filtered/train\"\n",
        "validation_dir = \"cats_and_dogs_filtered/validation\""
      ],
      "execution_count": null,
      "outputs": []
    }
  ]
}