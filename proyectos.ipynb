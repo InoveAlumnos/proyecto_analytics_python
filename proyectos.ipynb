{
  "nbformat": 4,
  "nbformat_minor": 0,
  "metadata": {
    "colab": {
      "name": "proyectos.ipynb",
      "provenance": [],
      "collapsed_sections": []
    },
    "kernelspec": {
      "name": "python3",
      "display_name": "Python 3"
    }
  },
  "cells": [
    {
      "cell_type": "markdown",
      "metadata": {
        "id": "FcBj8oqlBm1W"
      },
      "source": [
        "<a href=\"https://www.inove.com.ar\"><img src=\"https://raw.githubusercontent.com/InoveAlumnos/dataset_analytics_python/master/images/PA%20Banner.png\" width=\"1000\" align=\"center\"></a>\n",
        "\n",
        "\n",
        "# Proyectos\n",
        "\n",
        "Proyectos propuestos para Python Analytics<br>\n",
        "v1.5"
      ]
    },
    {
      "cell_type": "markdown",
      "metadata": {
        "id": "mfnI5-sJDqwl"
      },
      "source": [
        "### Formato de entrega\n",
        "Toda la etapa de entrenamiento del proyecto se debe realizar en un colab o nootebook que luego el alumno subierá a su repositorio de proyecto para que el profesor pueda evaluar los avances.<br>\n",
        "\n",
        "__APROBACIÓN:__ El proyecto será aprobado cuando el modelo entrenado alcance la exactitud/condición planteada en cada proyecto.<br>"
      ]
    },
    {
      "cell_type": "markdown",
      "metadata": {
        "id": "Q5h38Md6Br2c"
      },
      "source": [
        "### Predicción sobre el dataset de partidos de futbol\n",
        "<img src=\"https://raw.githubusercontent.com/InoveAlumnos/proyecto_analytics_python/main/futbol.png\" width=\"400\" align=\"center\">\n",
        "\n"
      ]
    },
    {
      "cell_type": "markdown",
      "metadata": {
        "id": "6XJW_GFDBzVK"
      },
      "source": [
        "- El objetivo es armar un clasificador que pueda predecir quien ganaría un partido de futbol informando al modelo quien es el equipo de local y visitante\n",
        "- Deberá entrenar un modelo clasificador y varias versiones del mismo. Por ejemplo, en el caso de seleccionar un RandomForest debe entrenar con distinto número de estimadores (distantas cantidad de árboles). Deberá compararlos utilizando la métrica adecuada y elegir el mejor modelo.\n",
        "- El punto anterior lo deberá repetir para tres distintos preprocesamientos:\n",
        "    - Realizar LabelEncoding sobre las columnas local y vistintante.\n",
        "    - Realizar OneHotEncoding sobre las columnas local y vistintante.\n",
        "    - Realizar BinaryEncoding sobre las columnas local y vistintante.\n",
        "- Recomendamos mirar la clase de \"Ingenieria de Features\" en la cual se implementó el BinaryEncoding.\n",
        "- Ojo! se debe utilizar el mismo objeto encoding para local y vistante, por lo que debe por si las dudas armar un vector que tenga todos los paises sin repetir tanto de la columna local y visitante para entrenar (fit) su encoder, que luego aplicará (transform) a las dos columnas. Referencia:\n",
        "\n",
        "Ejemplo encoding: https://github.com/InoveAlumnos/proyecto_analytics_python/blob/main/encoding_futbol.ipynb"
      ]
    },
    {
      "cell_type": "markdown",
      "metadata": {
        "id": "6HDor1sbr8oQ"
      },
      "source": [
        "#### Objetivo"
      ]
    },
    {
      "cell_type": "markdown",
      "metadata": {
        "id": "00HbuLm9r_OL"
      },
      "source": [
        "El accuracy del modelo definitivo debe superar el 50% (0.5)"
      ]
    },
    {
      "cell_type": "markdown",
      "metadata": {
        "id": "4WPqs6i8Bw--"
      },
      "source": [
        "#### Como descargar el dataset"
      ]
    },
    {
      "cell_type": "code",
      "metadata": {
        "id": "M2g1zYl_Bhd9"
      },
      "source": [
        "# Ejecutar:\n",
        "if os.access('partidos.csv', os.F_OK) is False:\n",
        "    if platform.system() == 'Windows':\n",
        "        !curl https://raw.githubusercontent.com/InoveAlumnos/dataset_analytics_python/master/partidos.csv > partidos.csv\n",
        "    else:\n",
        "        !wget partidos.csv https://raw.githubusercontent.com/InoveAlumnos/dataset_analytics_python/master/partidos.csv"
      ],
      "execution_count": null,
      "outputs": []
    },
    {
      "cell_type": "markdown",
      "metadata": {
        "id": "A8QilSHFnsAy"
      },
      "source": [
        "### Predicción de los precios de departamentos en alquiler\n",
        "<img src=\"https://raw.githubusercontent.com/InoveAlumnos/proyecto_analytics_python/main/alquileres.png\" width=\"300\" align=\"center\">"
      ]
    },
    {
      "cell_type": "markdown",
      "metadata": {
        "id": "XQsWtdtdnvjJ"
      },
      "source": [
        "- El objetivo es armar un modelo que pueda predecir el valor de un departamento en alquiler según un dataset entregado de muchos dapartamentos en alquiler en Capital Federal.\n",
        "- Se elije un dataset de Capital Federal porque hay mucha variedad de alquileres en cuanto a ambientes, m2 y precios.\n",
        "- Antes de comenzar a entrear su modelo, deberá segmentar los datos, porque como ya se vió en clase sería un error \"meter a todos los alquileres en la misma bolsa\".\n",
        "- Deberá armar un modelo de clustering y separar el dataset en 3 a 5 grupos, debe usted seleccionar la cantidad y el tipo de clustering a utilizar que mejor separe en grupos al dataste para su posterior aplicación de varias regresiones.\n",
        "- Deberá entrenar un modelo de regresión por cada segmentación realizada. Recuerde que puede realizar:\n",
        "    - Realizar regresión lineal usando una sola columna vs el precio\n",
        "    - Realizar regresión multilineal usando más de una columna vs el precio"
      ]
    },
    {
      "cell_type": "markdown",
      "metadata": {
        "id": "FmEiz9plsh_b"
      },
      "source": [
        "#### Objetivo"
      ]
    },
    {
      "cell_type": "markdown",
      "metadata": {
        "id": "ndOTOOozsjh5"
      },
      "source": [
        "Debe lograr que el sistema separe en grupos y forme una regresión lineal para cada uno, como se ve en la siguiente figura:\\\n",
        "<img src=\"https://github.com/InoveAlumnos/proyecto_analytics_python/raw/main/alquileres_clustering.png\" width=\"600\" align=\"center\">"
      ]
    },
    {
      "cell_type": "markdown",
      "metadata": {
        "id": "up7NdRiLnzDc"
      },
      "source": [
        "#### Como descargar el dataset"
      ]
    },
    {
      "cell_type": "code",
      "metadata": {
        "id": "HkeFkDjJn2ja"
      },
      "source": [
        "# Ejecutar:\n",
        "if os.access('propiedades.csv', os.F_OK) is False:\n",
        "    if platform.system() == 'Windows':\n",
        "        !curl https://raw.githubusercontent.com/InoveAlumnos/dataset_analytics_python/master/propiedades.csv > propiedades.csv\n",
        "    else:\n",
        "        !wget propiedades.csv https://raw.githubusercontent.com/InoveAlumnos/dataset_analytics_python/master/propiedades.csv"
      ],
      "execution_count": null,
      "outputs": []
    },
    {
      "cell_type": "markdown",
      "metadata": {
        "id": "MPHywLmR6LYn"
      },
      "source": [
        "### Predicción de enfermedades cardíacas\n",
        "<img src=\"https://github.com/InoveAlumnos/proyecto_analytics_python/raw/main/heart.png\" width=\"300\" align=\"center\">"
      ]
    },
    {
      "cell_type": "markdown",
      "metadata": {
        "id": "9BZnv5-R6Skr"
      },
      "source": [
        "- El objetivo es armar un clasificador binario que permita predecir si un paciente podría presentar o no enfermedades cardíacas.\n",
        "- Deberá entrenar un modelo clasificador y varios algoritmos para clasificación. Por ejemplo, en el caso de seleccionar un RandomForest debe entrenar con distinto número de estimadores (distantas cantidad de árboles), pero a su vez entrenar distintos KNN o regresión logística, etc. Deberá compararlos utilizando la métrica adecuada y elegir el mejor modelo.\n",
        "- Entre el dataset encontrará datos categóricos que requieren ser codificados, y datos numéricos para normalizar.\n",
        "- A modo de análisis, debe identificar si el dataset se encuentra correctamente balanceado (entre pacientes con y sin enfermedad cardíaca), y como está balanceado el dataset en cuanto a género y edad (este análisis es unicamente a modo informativo)."
      ]
    },
    {
      "cell_type": "markdown",
      "metadata": {
        "id": "TlDN-cSe7RUr"
      },
      "source": [
        "#### Objetivo"
      ]
    },
    {
      "cell_type": "markdown",
      "metadata": {
        "id": "s2rnds1N7e5q"
      },
      "source": [
        "El accuracy del modelo definitivo debe superar el 80% (0.8)"
      ]
    },
    {
      "cell_type": "markdown",
      "metadata": {
        "id": "fbZirXUT7km6"
      },
      "source": [
        "#### Como descargar el dataset"
      ]
    },
    {
      "cell_type": "code",
      "metadata": {
        "id": "p4ihvlFl7pIx"
      },
      "source": [
        "# Ejecutar:\n",
        "if os.access('heart.csv', os.F_OK) is False:\n",
        "    if platform.system() == 'Windows':\n",
        "        !curl https://raw.githubusercontent.com/InoveAlumnos/dataset_analytics_python/master/heart.csv > heart.csv\n",
        "    else:\n",
        "        !wget heart.csv https://raw.githubusercontent.com/InoveAlumnos/dataset_analytics_python/master/heart.csv"
      ],
      "execution_count": null,
      "outputs": []
    },
    {
      "cell_type": "markdown",
      "metadata": {
        "id": "UFwBQ2uetL5M"
      },
      "source": [
        "### Clasificación de imagenes de perros y gatos\n",
        "<img src=\"https://raw.githubusercontent.com/InoveAlumnos/proyecto_analytics_python/main/cat_dog.jpg\" width=\"600\" align=\"center\">"
      ]
    },
    {
      "cell_type": "markdown",
      "metadata": {
        "id": "vVuFtzket36w"
      },
      "source": [
        "- El objetivo es entrenar una red neuronal CNN para clasificar imagenes a color de gatos y perros.\n",
        "- Se debe crear un modelo de CNN propio, no demasiado complejo o grande para no demorar más de 15 minutos el entrenamiento (tope máximo sugerido). Recomendamos utilizar colab con GPU para reducir los tiempos al mínimo.\n",
        "- El modelo CNN armado propio debe tener una precisión entre 0.25 y 0.4 de accuracy.\n",
        "- Deberá utilizan transfer learning con las redes VGG16 o ResNet50 para alcanzar el verdadero valor objetivo de accuracy.\n",
        "- Por último, utilizar la red con al menos 2 imagenes (de perros y gatos) para introducir en su red y ver como se comporta."
      ]
    },
    {
      "cell_type": "markdown",
      "metadata": {
        "id": "tY8I31zcuf8x"
      },
      "source": [
        "#### Objetivo"
      ]
    },
    {
      "cell_type": "markdown",
      "metadata": {
        "id": "_92Av_squgXr"
      },
      "source": [
        "El accuracy del modelo entrenado con transfer learning debe superar el 70%"
      ]
    },
    {
      "cell_type": "markdown",
      "metadata": {
        "id": "SoCA5ysousR0"
      },
      "source": [
        "#### Como descargar el dataset"
      ]
    },
    {
      "cell_type": "code",
      "metadata": {
        "id": "-_oumrEpus1_"
      },
      "source": [
        "# Ejecutar\n",
        "!wget --no-check-certificate \\\n",
        "  https://storage.googleapis.com/mledu-datasets/cats_and_dogs_filtered.zip \\\n",
        "  -O cats_and_dogs_filtered.zip\n",
        "\n",
        "!unzip -q cats_and_dogs_filtered.zip\n"
      ],
      "execution_count": null,
      "outputs": []
    },
    {
      "cell_type": "code",
      "metadata": {
        "id": "LCixAO1ZvWqV"
      },
      "source": [
        "train_dir = \"cats_and_dogs_filtered/train\"\n",
        "validation_dir = \"cats_and_dogs_filtered/validation\""
      ],
      "execution_count": null,
      "outputs": []
    },
    {
      "cell_type": "markdown",
      "metadata": {
        "id": "iEFaq33u37Th"
      },
      "source": [
        "### Clasificación de imagenes de comida\n",
        "<img src=\"https://github.com/InoveAlumnos/proyecto_analytics_python/raw/main/food.png\" width=\"600\" align=\"center\">"
      ]
    },
    {
      "cell_type": "markdown",
      "metadata": {
        "id": "em1juto04Dhl"
      },
      "source": [
        "- El objetivo es entrenar una red neuronal CNN para clasificar imagenes a color de comida.\n",
        "- Se debe crear un modelo de CNN propio, no demasiado complejo o grande para no demorar más de 15 minutos el entrenamiento (tope máximo sugerido). Recomendamos utilizar colab con GPU para reducir los tiempos al mínimo.\n",
        "- El modelo CNN armado propio debe tener una precisión entre 0.25 y 0.4 de accuracy.\n",
        "- Deberá utilizan transfer learning con las redes VGG16 o ResNet50 para alcanzar el verdadero valor objetivo de accuracy.\n",
        "- Por último, utilizar la red con al menos 5 imagenes de algunas comidas a elección (dentro de las posibles del dataset) para introducir en su red y ver como se comporta."
      ]
    },
    {
      "cell_type": "markdown",
      "metadata": {
        "id": "8ZkKBlP64S0X"
      },
      "source": [
        "#### Objetivo"
      ]
    },
    {
      "cell_type": "markdown",
      "metadata": {
        "id": "AQ0wsJWy4U_P"
      },
      "source": [
        "El accuracy del modelo entrenado con transfer learning debe superar el 60%"
      ]
    },
    {
      "cell_type": "markdown",
      "metadata": {
        "id": "GfEhuBQv4X3X"
      },
      "source": [
        "#### Como descargar el dataset"
      ]
    },
    {
      "cell_type": "code",
      "metadata": {
        "id": "OjXl2W5p4g2h"
      },
      "source": [
        "# Descargar el dataset\n",
        "import gdown\n",
        "if os.access('10_food_classes_all_data', os.F_OK) is False:\n",
        "    if os.access('10_food_classes_all_data.zip', os.F_OK) is False:\n",
        "        url = 'https://drive.google.com/uc?id=1ltCRzJhGcmJITYq7o8XyrSAezXPYPzBX'\n",
        "        output = '10_food_classes_all_data.zip'\n",
        "        gdown.download(url, output, quiet=False)\n",
        "    !unzip -q 10_food_classes_all_data.zip\n",
        "else:\n",
        "    print(\"El archivo ya se encuentra descargado\")"
      ],
      "execution_count": null,
      "outputs": []
    },
    {
      "cell_type": "code",
      "metadata": {
        "id": "jJm-AVJI4kxu"
      },
      "source": [
        " train_dir = \"./10_food_classes_all_data/train\"\n",
        " validation_dir = \"./10_food_classes_all_data/test\""
      ],
      "execution_count": null,
      "outputs": []
    }
  ]
}