{
  "nbformat": 4,
  "nbformat_minor": 0,
  "metadata": {
    "colab": {
      "name": "encoding.ipynb",
      "provenance": [],
      "collapsed_sections": [],
      "toc_visible": true
    },
    "kernelspec": {
      "name": "python3",
      "display_name": "Python 3"
    }
  },
  "cells": [
    {
      "cell_type": "markdown",
      "metadata": {
        "id": "FcBj8oqlBm1W"
      },
      "source": [
        "<a href=\"https://www.inove.com.ar\"><img src=\"https://raw.githubusercontent.com/InoveAlumnos/dataset_analytics_python/master/images/PA%20Banner.png\" width=\"1000\" align=\"center\"></a>\n",
        "\n",
        "\n",
        "# BinaryEncoding\n",
        "\n",
        "Explicación de la nota mencionada en el proyecto de partidos de futbol<br>\n",
        "v1.1"
      ]
    },
    {
      "cell_type": "code",
      "metadata": {
        "id": "R15csUUKsJZo"
      },
      "source": [
        "import numpy as np\r\n",
        "import pandas as pd"
      ],
      "execution_count": 1,
      "outputs": []
    },
    {
      "cell_type": "code",
      "metadata": {
        "colab": {
          "base_uri": "https://localhost:8080/",
          "height": 256
        },
        "id": "lts-b60cspZ-",
        "outputId": "6e3f0a82-c70e-453a-e436-e50bf9947ec6"
      },
      "source": [
        "# Dataframe de ejemplo\r\n",
        "df = pd.DataFrame({\r\n",
        "      \"local\": [\"Argentina\", \"Holanda\", \"Estados Unidos\",\r\n",
        "                      \"Argentina\", \"Estados Unidos\",\r\n",
        "                      \"Inglaterra\", \"Estados Unidos\"],\r\n",
        "      \"visitante\": [\"Holanda\", \"Estados Unidos\", \"Holanda\",\r\n",
        "                      \"Inglaterra\", \"Estados Unidos\",\r\n",
        "                      \"Inglaterra\", \"Estados Unidos\"]\r\n",
        "        }\r\n",
        "      )\r\n",
        "df"
      ],
      "execution_count": 4,
      "outputs": [
        {
          "output_type": "execute_result",
          "data": {
            "text/html": [
              "<div>\n",
              "<style scoped>\n",
              "    .dataframe tbody tr th:only-of-type {\n",
              "        vertical-align: middle;\n",
              "    }\n",
              "\n",
              "    .dataframe tbody tr th {\n",
              "        vertical-align: top;\n",
              "    }\n",
              "\n",
              "    .dataframe thead th {\n",
              "        text-align: right;\n",
              "    }\n",
              "</style>\n",
              "<table border=\"1\" class=\"dataframe\">\n",
              "  <thead>\n",
              "    <tr style=\"text-align: right;\">\n",
              "      <th></th>\n",
              "      <th>local</th>\n",
              "      <th>visitante</th>\n",
              "    </tr>\n",
              "  </thead>\n",
              "  <tbody>\n",
              "    <tr>\n",
              "      <th>0</th>\n",
              "      <td>Argentina</td>\n",
              "      <td>Holanda</td>\n",
              "    </tr>\n",
              "    <tr>\n",
              "      <th>1</th>\n",
              "      <td>Holanda</td>\n",
              "      <td>Estados Unidos</td>\n",
              "    </tr>\n",
              "    <tr>\n",
              "      <th>2</th>\n",
              "      <td>Estados Unidos</td>\n",
              "      <td>Holanda</td>\n",
              "    </tr>\n",
              "    <tr>\n",
              "      <th>3</th>\n",
              "      <td>Argentina</td>\n",
              "      <td>Inglaterra</td>\n",
              "    </tr>\n",
              "    <tr>\n",
              "      <th>4</th>\n",
              "      <td>Estados Unidos</td>\n",
              "      <td>Estados Unidos</td>\n",
              "    </tr>\n",
              "    <tr>\n",
              "      <th>5</th>\n",
              "      <td>Inglaterra</td>\n",
              "      <td>Inglaterra</td>\n",
              "    </tr>\n",
              "    <tr>\n",
              "      <th>6</th>\n",
              "      <td>Estados Unidos</td>\n",
              "      <td>Estados Unidos</td>\n",
              "    </tr>\n",
              "  </tbody>\n",
              "</table>\n",
              "</div>"
            ],
            "text/plain": [
              "            local       visitante\n",
              "0       Argentina         Holanda\n",
              "1         Holanda  Estados Unidos\n",
              "2  Estados Unidos         Holanda\n",
              "3       Argentina      Inglaterra\n",
              "4  Estados Unidos  Estados Unidos\n",
              "5      Inglaterra      Inglaterra\n",
              "6  Estados Unidos  Estados Unidos"
            ]
          },
          "metadata": {
            "tags": []
          },
          "execution_count": 4
        }
      ]
    },
    {
      "cell_type": "code",
      "metadata": {
        "colab": {
          "base_uri": "https://localhost:8080/"
        },
        "id": "zrpy2nzntunw",
        "outputId": "937d6c67-e2be-425b-e5a4-841f105093f7"
      },
      "source": [
        "# Lo primero que se puede notar es que las columnas no tienen exactamente los\r\n",
        "# mismos paises, en la coulmna de visitante falta por ejemplo Argentina\r\n",
        "# El encoder se debe de crear con todas las distintas posibilidades\r\n",
        "\r\n",
        "# 1) Crear un vector contenga todos los elementos \r\n",
        "vector_total = pd.concat([df['local'], df['visitante']])\r\n",
        "\r\n",
        "# 2) De ese vector con todos los posibles elementos, extraer los unicos\r\n",
        "vector_unicos = vector_total.unique()\r\n",
        "vector_unicos"
      ],
      "execution_count": 27,
      "outputs": [
        {
          "output_type": "execute_result",
          "data": {
            "text/plain": [
              "array(['Argentina', 'Holanda', 'Estados Unidos', 'Inglaterra'],\n",
              "      dtype=object)"
            ]
          },
          "metadata": {
            "tags": []
          },
          "execution_count": 27
        }
      ]
    },
    {
      "cell_type": "code",
      "metadata": {
        "id": "bwV3-9GLysaQ"
      },
      "source": [
        "class BinaryEncoder():\r\n",
        "    def __init__(self):\r\n",
        "        self.n_bits = 0\r\n",
        "    \r\n",
        "    def fit(self, data):\r\n",
        "        if data.__class__.__name__ == list.__name__:\r\n",
        "          self.n_bits = int(np.ceil(np.log2(max(data)+1))) + 1\r\n",
        "        elif type(data).__module__ == pd.core.series.__name__:          \r\n",
        "          self.n_bits = int(np.ceil(np.log2(data.max()+1))) + 1\r\n",
        "        elif type(data).__module__ == np.__name__:\r\n",
        "          self.n_bits = int(np.ceil(np.log2(data.max()+1))) + 1\r\n",
        "        else:\r\n",
        "          raise ValueError(\"Allowed list, numpy or pandas serie data\")\r\n",
        "\r\n",
        "    def transform(self, data):\r\n",
        "        binary_encoding = [format(int(x+1), '0'+str(self.n_bits)+'b') for x in data]\r\n",
        "        binary_encoding_split = [list(x) for x in binary_encoding]\r\n",
        "        binary_encoding_header = ['b'+str(x) for x in reversed(range(self.n_bits))]\r\n",
        "        return pd.DataFrame(binary_encoding_split, columns=binary_encoding_header, dtype=int)\r\n",
        "\r\n",
        "    def fit_transform(self, data):\r\n",
        "        self.fit(data)\r\n",
        "        return self.transform(data)"
      ],
      "execution_count": 50,
      "outputs": []
    },
    {
      "cell_type": "code",
      "metadata": {
        "colab": {
          "base_uri": "https://localhost:8080/"
        },
        "id": "iZGHEEndythT",
        "outputId": "2c1779e5-60c5-48ae-9eda-81fd7d87f0b8"
      },
      "source": [
        "from sklearn.preprocessing import LabelEncoder\r\n",
        "# Antes de poder correr el BinaryEncoder debemos transformar\r\n",
        "# las variables categoricas a numeros que las representen (nº de clases)\r\n",
        "\r\n",
        "# Entrenar al label encoder:\r\n",
        "le = LabelEncoder()\r\n",
        "label_encoding = le.fit_transform(vector_unicos.reshape(-1, 1))\r\n",
        "\r\n",
        "# Entrenar el BinaryEncoder\r\n",
        "binary_encoder = BinaryEncoder()\r\n",
        "binary_encoder.fit(label_encoding)"
      ],
      "execution_count": 66,
      "outputs": [
        {
          "output_type": "stream",
          "text": [
            "Traduccion del label encoding ['Argentina' 'Estados Unidos' 'Holanda' 'Inglaterra']\n"
          ],
          "name": "stdout"
        },
        {
          "output_type": "stream",
          "text": [
            "/usr/local/lib/python3.6/dist-packages/sklearn/preprocessing/_label.py:251: DataConversionWarning: A column-vector y was passed when a 1d array was expected. Please change the shape of y to (n_samples, ), for example using ravel().\n",
            "  y = column_or_1d(y, warn=True)\n"
          ],
          "name": "stderr"
        }
      ]
    },
    {
      "cell_type": "code",
      "metadata": {
        "colab": {
          "base_uri": "https://localhost:8080/",
          "height": 256
        },
        "id": "SJjK6tPSzKtO",
        "outputId": "dbef4e51-a044-47a9-8875-4f637d196d5b"
      },
      "source": [
        "# Ahora que tenemos los dos encoders entrenados podemos transformar\r\n",
        "# cada columna del dataframe por separado\r\n",
        "# Local\r\n",
        "local_label_encoding = le.transform(df['local'])\r\n",
        "local_b = binary_encoder.transform(local_label_encoding)\r\n",
        "local_b = local_b.add_prefix('local_')\r\n",
        "local_b"
      ],
      "execution_count": 73,
      "outputs": [
        {
          "output_type": "execute_result",
          "data": {
            "text/html": [
              "<div>\n",
              "<style scoped>\n",
              "    .dataframe tbody tr th:only-of-type {\n",
              "        vertical-align: middle;\n",
              "    }\n",
              "\n",
              "    .dataframe tbody tr th {\n",
              "        vertical-align: top;\n",
              "    }\n",
              "\n",
              "    .dataframe thead th {\n",
              "        text-align: right;\n",
              "    }\n",
              "</style>\n",
              "<table border=\"1\" class=\"dataframe\">\n",
              "  <thead>\n",
              "    <tr style=\"text-align: right;\">\n",
              "      <th></th>\n",
              "      <th>local_b2</th>\n",
              "      <th>local_b1</th>\n",
              "      <th>local_b0</th>\n",
              "    </tr>\n",
              "  </thead>\n",
              "  <tbody>\n",
              "    <tr>\n",
              "      <th>0</th>\n",
              "      <td>0</td>\n",
              "      <td>0</td>\n",
              "      <td>1</td>\n",
              "    </tr>\n",
              "    <tr>\n",
              "      <th>1</th>\n",
              "      <td>0</td>\n",
              "      <td>1</td>\n",
              "      <td>1</td>\n",
              "    </tr>\n",
              "    <tr>\n",
              "      <th>2</th>\n",
              "      <td>0</td>\n",
              "      <td>1</td>\n",
              "      <td>0</td>\n",
              "    </tr>\n",
              "    <tr>\n",
              "      <th>3</th>\n",
              "      <td>0</td>\n",
              "      <td>0</td>\n",
              "      <td>1</td>\n",
              "    </tr>\n",
              "    <tr>\n",
              "      <th>4</th>\n",
              "      <td>0</td>\n",
              "      <td>1</td>\n",
              "      <td>0</td>\n",
              "    </tr>\n",
              "    <tr>\n",
              "      <th>5</th>\n",
              "      <td>1</td>\n",
              "      <td>0</td>\n",
              "      <td>0</td>\n",
              "    </tr>\n",
              "    <tr>\n",
              "      <th>6</th>\n",
              "      <td>0</td>\n",
              "      <td>1</td>\n",
              "      <td>0</td>\n",
              "    </tr>\n",
              "  </tbody>\n",
              "</table>\n",
              "</div>"
            ],
            "text/plain": [
              "  local_b2 local_b1 local_b0\n",
              "0        0        0        1\n",
              "1        0        1        1\n",
              "2        0        1        0\n",
              "3        0        0        1\n",
              "4        0        1        0\n",
              "5        1        0        0\n",
              "6        0        1        0"
            ]
          },
          "metadata": {
            "tags": []
          },
          "execution_count": 73
        }
      ]
    },
    {
      "cell_type": "code",
      "metadata": {
        "colab": {
          "base_uri": "https://localhost:8080/",
          "height": 256
        },
        "id": "ZCZbK4bA0JWl",
        "outputId": "93563f63-e878-47b2-9210-3dd1ac1b60c9"
      },
      "source": [
        "# Visitante\r\n",
        "local_label_encoding = le.transform(df['visitante'])\r\n",
        "visitante_b = binary_encoder.transform(local_label_encoding)\r\n",
        "visitante_b = visitante_b.add_prefix('visitante_')\r\n",
        "visitante_b"
      ],
      "execution_count": 72,
      "outputs": [
        {
          "output_type": "execute_result",
          "data": {
            "text/html": [
              "<div>\n",
              "<style scoped>\n",
              "    .dataframe tbody tr th:only-of-type {\n",
              "        vertical-align: middle;\n",
              "    }\n",
              "\n",
              "    .dataframe tbody tr th {\n",
              "        vertical-align: top;\n",
              "    }\n",
              "\n",
              "    .dataframe thead th {\n",
              "        text-align: right;\n",
              "    }\n",
              "</style>\n",
              "<table border=\"1\" class=\"dataframe\">\n",
              "  <thead>\n",
              "    <tr style=\"text-align: right;\">\n",
              "      <th></th>\n",
              "      <th>visitante_b2</th>\n",
              "      <th>visitante_b1</th>\n",
              "      <th>visitante_b0</th>\n",
              "    </tr>\n",
              "  </thead>\n",
              "  <tbody>\n",
              "    <tr>\n",
              "      <th>0</th>\n",
              "      <td>0</td>\n",
              "      <td>1</td>\n",
              "      <td>1</td>\n",
              "    </tr>\n",
              "    <tr>\n",
              "      <th>1</th>\n",
              "      <td>0</td>\n",
              "      <td>1</td>\n",
              "      <td>0</td>\n",
              "    </tr>\n",
              "    <tr>\n",
              "      <th>2</th>\n",
              "      <td>0</td>\n",
              "      <td>1</td>\n",
              "      <td>1</td>\n",
              "    </tr>\n",
              "    <tr>\n",
              "      <th>3</th>\n",
              "      <td>1</td>\n",
              "      <td>0</td>\n",
              "      <td>0</td>\n",
              "    </tr>\n",
              "    <tr>\n",
              "      <th>4</th>\n",
              "      <td>0</td>\n",
              "      <td>1</td>\n",
              "      <td>0</td>\n",
              "    </tr>\n",
              "    <tr>\n",
              "      <th>5</th>\n",
              "      <td>1</td>\n",
              "      <td>0</td>\n",
              "      <td>0</td>\n",
              "    </tr>\n",
              "    <tr>\n",
              "      <th>6</th>\n",
              "      <td>0</td>\n",
              "      <td>1</td>\n",
              "      <td>0</td>\n",
              "    </tr>\n",
              "  </tbody>\n",
              "</table>\n",
              "</div>"
            ],
            "text/plain": [
              "  visitante_b2 visitante_b1 visitante_b0\n",
              "0            0            1            1\n",
              "1            0            1            0\n",
              "2            0            1            1\n",
              "3            1            0            0\n",
              "4            0            1            0\n",
              "5            1            0            0\n",
              "6            0            1            0"
            ]
          },
          "metadata": {
            "tags": []
          },
          "execution_count": 72
        }
      ]
    },
    {
      "cell_type": "code",
      "metadata": {
        "colab": {
          "base_uri": "https://localhost:8080/",
          "height": 256
        },
        "id": "lrTkdcUJ0NjZ",
        "outputId": "e2bd5e76-00d3-455e-d689-7f681bc37f54"
      },
      "source": [
        "# Ahora resta construir un dataframe utilizando las \r\n",
        "# columnas transformadas en vez de las originales\r\n",
        "df2 = df.copy()\r\n",
        "# Agregar las nuevas columnas\r\n",
        "df2 = df2.join(local_b)\r\n",
        "df2 = df2.join(visitante_b)\r\n",
        "# Del nuevo dataframe eliminamos las columnas viejas\r\n",
        "df2 = df2.drop('visitante', axis=1)\r\n",
        "df2 = df2.drop('local', axis=1)\r\n",
        "df2"
      ],
      "execution_count": 77,
      "outputs": [
        {
          "output_type": "execute_result",
          "data": {
            "text/html": [
              "<div>\n",
              "<style scoped>\n",
              "    .dataframe tbody tr th:only-of-type {\n",
              "        vertical-align: middle;\n",
              "    }\n",
              "\n",
              "    .dataframe tbody tr th {\n",
              "        vertical-align: top;\n",
              "    }\n",
              "\n",
              "    .dataframe thead th {\n",
              "        text-align: right;\n",
              "    }\n",
              "</style>\n",
              "<table border=\"1\" class=\"dataframe\">\n",
              "  <thead>\n",
              "    <tr style=\"text-align: right;\">\n",
              "      <th></th>\n",
              "      <th>local_b2</th>\n",
              "      <th>local_b1</th>\n",
              "      <th>local_b0</th>\n",
              "      <th>visitante_b2</th>\n",
              "      <th>visitante_b1</th>\n",
              "      <th>visitante_b0</th>\n",
              "    </tr>\n",
              "  </thead>\n",
              "  <tbody>\n",
              "    <tr>\n",
              "      <th>0</th>\n",
              "      <td>0</td>\n",
              "      <td>0</td>\n",
              "      <td>1</td>\n",
              "      <td>0</td>\n",
              "      <td>1</td>\n",
              "      <td>1</td>\n",
              "    </tr>\n",
              "    <tr>\n",
              "      <th>1</th>\n",
              "      <td>0</td>\n",
              "      <td>1</td>\n",
              "      <td>1</td>\n",
              "      <td>0</td>\n",
              "      <td>1</td>\n",
              "      <td>0</td>\n",
              "    </tr>\n",
              "    <tr>\n",
              "      <th>2</th>\n",
              "      <td>0</td>\n",
              "      <td>1</td>\n",
              "      <td>0</td>\n",
              "      <td>0</td>\n",
              "      <td>1</td>\n",
              "      <td>1</td>\n",
              "    </tr>\n",
              "    <tr>\n",
              "      <th>3</th>\n",
              "      <td>0</td>\n",
              "      <td>0</td>\n",
              "      <td>1</td>\n",
              "      <td>1</td>\n",
              "      <td>0</td>\n",
              "      <td>0</td>\n",
              "    </tr>\n",
              "    <tr>\n",
              "      <th>4</th>\n",
              "      <td>0</td>\n",
              "      <td>1</td>\n",
              "      <td>0</td>\n",
              "      <td>0</td>\n",
              "      <td>1</td>\n",
              "      <td>0</td>\n",
              "    </tr>\n",
              "    <tr>\n",
              "      <th>5</th>\n",
              "      <td>1</td>\n",
              "      <td>0</td>\n",
              "      <td>0</td>\n",
              "      <td>1</td>\n",
              "      <td>0</td>\n",
              "      <td>0</td>\n",
              "    </tr>\n",
              "    <tr>\n",
              "      <th>6</th>\n",
              "      <td>0</td>\n",
              "      <td>1</td>\n",
              "      <td>0</td>\n",
              "      <td>0</td>\n",
              "      <td>1</td>\n",
              "      <td>0</td>\n",
              "    </tr>\n",
              "  </tbody>\n",
              "</table>\n",
              "</div>"
            ],
            "text/plain": [
              "  local_b2 local_b1 local_b0 visitante_b2 visitante_b1 visitante_b0\n",
              "0        0        0        1            0            1            1\n",
              "1        0        1        1            0            1            0\n",
              "2        0        1        0            0            1            1\n",
              "3        0        0        1            1            0            0\n",
              "4        0        1        0            0            1            0\n",
              "5        1        0        0            1            0            0\n",
              "6        0        1        0            0            1            0"
            ]
          },
          "metadata": {
            "tags": []
          },
          "execution_count": 77
        }
      ]
    },
    {
      "cell_type": "code",
      "metadata": {
        "id": "P5AmBydSNuHG"
      },
      "source": [
        "# Este dataframe lo podemos guardar en una base de datos o exportar como CSV\r\n",
        "df2.to_csv('dataset_encoder.csv')"
      ],
      "execution_count": 78,
      "outputs": []
    }
  ]
}